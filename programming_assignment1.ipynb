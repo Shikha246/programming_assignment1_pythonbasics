{
 "cells": [
  {
   "cell_type": "markdown",
   "id": "1efad7af",
   "metadata": {},
   "source": [
    "## 1. Write a Python program to print &quot;Hello Python&quot;?"
   ]
  },
  {
   "cell_type": "code",
   "execution_count": 1,
   "id": "460482e9",
   "metadata": {},
   "outputs": [
    {
     "name": "stdout",
     "output_type": "stream",
     "text": [
      "\"Hello Python\"\n"
     ]
    }
   ],
   "source": [
    "print(\"\\\"Hello Python\\\"\")"
   ]
  },
  {
   "cell_type": "markdown",
   "id": "da62034d",
   "metadata": {},
   "source": [
    "## 2. Write a Python program to do arithmetical operations addition and division.?"
   ]
  },
  {
   "cell_type": "code",
   "execution_count": 3,
   "id": "098a1932",
   "metadata": {},
   "outputs": [
    {
     "name": "stdout",
     "output_type": "stream",
     "text": [
      "Enter the first number:5\n",
      "Enter the Second number:10\n",
      "The sum of 5 and 10 is 15\n",
      "The division of 5 and 10 is 0.5\n"
     ]
    }
   ],
   "source": [
    "num1=int(input(\"Enter the first number:\"))\n",
    "num2= int(input(\"Enter the Second number:\"))\n",
    "sum=num1+num2\n",
    "div=num1/num2\n",
    "print(f\"The sum of {num1} and {num2} is {sum}\")\n",
    "print(f\"The division of {num1} and {num2} is {div}\")"
   ]
  },
  {
   "cell_type": "markdown",
   "id": "a19269a4",
   "metadata": {},
   "source": [
    "## 3. Write a Python program to find the area of a triangle?"
   ]
  },
  {
   "cell_type": "code",
   "execution_count": 4,
   "id": "12cb715c",
   "metadata": {},
   "outputs": [
    {
     "name": "stdout",
     "output_type": "stream",
     "text": [
      "Enter the base of a triangle:7\n",
      "Enter the height of a triangle:8\n",
      "The area of the triangle is 28.0\n"
     ]
    }
   ],
   "source": [
    "#area of right angled triangle= 0.5*base*height\n",
    "base=int(input(\"Enter the base of a triangle:\"))\n",
    "height=int(input(\"Enter the height of a triangle:\"))\n",
    "area= 0.5*base*height\n",
    "print(f\"The area of the triangle is {area}\")"
   ]
  },
  {
   "cell_type": "markdown",
   "id": "f5c41743",
   "metadata": {},
   "source": [
    "## 4. Write a Python program to swap two variables?"
   ]
  },
  {
   "cell_type": "code",
   "execution_count": 6,
   "id": "d835b8ab",
   "metadata": {},
   "outputs": [
    {
     "name": "stdout",
     "output_type": "stream",
     "text": [
      "Enter first number:4\n",
      "Enter second number:5\n",
      "The numbers were 4 and 5\n",
      " The swaped numbers are 5 and 4\n"
     ]
    }
   ],
   "source": [
    "a=int(input(\"Enter first number:\"))\n",
    "b=int(input(\"Enter second number:\"))\n",
    "a1=b\n",
    "b1=a\n",
    "print(f\"The numbers were {a} and {b}\\n The swaped numbers are {a1} and {b1}\")"
   ]
  },
  {
   "cell_type": "markdown",
   "id": "9ac548cb",
   "metadata": {},
   "source": [
    "## 5. Write a Python program to generate a random number?"
   ]
  },
  {
   "cell_type": "code",
   "execution_count": 11,
   "id": "7a82331a",
   "metadata": {},
   "outputs": [
    {
     "name": "stdout",
     "output_type": "stream",
     "text": [
      "Your new random number is 8\n"
     ]
    }
   ],
   "source": [
    "import random\n",
    "num=random.randint(1,10)\n",
    "print(f\"Your new random number is {num}\")"
   ]
  },
  {
   "cell_type": "code",
   "execution_count": null,
   "id": "218421db",
   "metadata": {},
   "outputs": [],
   "source": []
  }
 ],
 "metadata": {
  "kernelspec": {
   "display_name": "Python 3 (ipykernel)",
   "language": "python",
   "name": "python3"
  },
  "language_info": {
   "codemirror_mode": {
    "name": "ipython",
    "version": 3
   },
   "file_extension": ".py",
   "mimetype": "text/x-python",
   "name": "python",
   "nbconvert_exporter": "python",
   "pygments_lexer": "ipython3",
   "version": "3.9.7"
  }
 },
 "nbformat": 4,
 "nbformat_minor": 5
}
